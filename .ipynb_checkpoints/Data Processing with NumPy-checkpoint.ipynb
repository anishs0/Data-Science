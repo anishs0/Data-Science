{
 "cells": [
  {
   "cell_type": "markdown",
   "id": "f54320b0",
   "metadata": {},
   "source": [
    "# Data Procesing with NumPy"
   ]
  },
  {
   "cell_type": "markdown",
   "id": "c3bed24f",
   "metadata": {},
   "source": [
    "## NumPy's n-dimenisonal array"
   ]
  },
  {
   "cell_type": "markdown",
   "id": "e069353c",
   "metadata": {},
   "source": [
    "### Creating NumPy arrays\n",
    "\n"
   ]
  },
  {
   "cell_type": "code",
   "execution_count": null,
   "id": "be9c5493",
   "metadata": {},
   "outputs": [],
   "source": [
    "#By transforming an existind data structure into an array\n",
    "#By creating an array from scratch and populating it with default or calculated values\n",
    "#By uploading some data from a disk into an array"
   ]
  },
  {
   "cell_type": "markdown",
   "id": "c2452d85",
   "metadata": {},
   "source": [
    "### From lists to unidimensional arrays"
   ]
  },
  {
   "cell_type": "code",
   "execution_count": null,
   "id": "0ee4449d",
   "metadata": {},
   "outputs": [],
   "source": [
    "import numpy as np\n",
    "list_of_ints =[1, 2, 3, 4]\n",
    "Array_1 = np.array(list_of_ints)\n",
    "Array_1"
   ]
  },
  {
   "cell_type": "code",
   "execution_count": null,
   "id": "fb153621",
   "metadata": {},
   "outputs": [],
   "source": [
    "#lets output the second value\n",
    "Array_1[1]"
   ]
  },
  {
   "cell_type": "code",
   "execution_count": null,
   "id": "5b1ae89d",
   "metadata": {},
   "outputs": [],
   "source": [
    "type(Array_1)"
   ]
  },
  {
   "cell_type": "code",
   "execution_count": null,
   "id": "dbb081aa",
   "metadata": {},
   "outputs": [],
   "source": [
    "Array_1.dtype"
   ]
  },
  {
   "cell_type": "markdown",
   "id": "5f7f9ca6",
   "metadata": {},
   "source": [
    "### Controlling memory size"
   ]
  },
  {
   "cell_type": "code",
   "execution_count": null,
   "id": "67ccc08d",
   "metadata": {},
   "outputs": [],
   "source": [
    "Array_1.nbytes"
   ]
  },
  {
   "cell_type": "code",
   "execution_count": null,
   "id": "c1a87293",
   "metadata": {},
   "outputs": [],
   "source": [
    "#In order to save memory, we can specify the type that best suits your array beforehand\n",
    "Array_1 = np.array(list_of_ints, dtype= 'int8')\n",
    "Array_1.nbytes"
   ]
  },
  {
   "cell_type": "code",
   "execution_count": null,
   "id": "0b6a9aa3",
   "metadata": {},
   "outputs": [],
   "source": [
    "#If an array has a type that you want to change, you can easily create a new array by casting a new, specified type\n",
    "Array_1b = Array_1.astype('float32')\n",
    "Array_1b"
   ]
  },
  {
   "cell_type": "markdown",
   "id": "a800a38c",
   "metadata": {},
   "source": [
    "### Heterogeneous lists"
   ]
  },
  {
   "cell_type": "code",
   "execution_count": null,
   "id": "8d747163",
   "metadata": {},
   "outputs": [],
   "source": [
    "complex_list = [1, 2, 3] + [1., 2., 3.] + ['a', 'b', 'c']\n",
    "# at first the input list is just ints\n",
    "Array_2 = np.array(complex_list[:3])\n",
    "print('complex_list[:3]', Array_2.dtype)\n",
    "#then it is ints and floats\n",
    "Array_2 = np.array(complex_list[:6]) \n",
    "print ('complex_list[:6]', Array_2.dtype)\n",
    "#finally we add strings print\n",
    "Array_2 = np.array(complex_list)\n",
    "print ('complex_list[:]', Array_2.dtype)\n",
    "print (isinstance(Array_2[0],np.number))"
   ]
  },
  {
   "cell_type": "markdown",
   "id": "c1c77cb2",
   "metadata": {},
   "source": [
    "### From lists to multidimensional arrays\n"
   ]
  },
  {
   "cell_type": "code",
   "execution_count": null,
   "id": "dcac321f",
   "metadata": {},
   "outputs": [],
   "source": [
    "import numpy as np\n",
    "# Transform a list into a bidimensional array\n",
    "a_list_of_lists = [[1,2,3],[4,5,6],[7,8,9]]\n",
    "Array_2D = np.array(a_list_of_lists )\n",
    "Array_2D"
   ]
  },
  {
   "cell_type": "code",
   "execution_count": null,
   "id": "20a26abc",
   "metadata": {},
   "outputs": [],
   "source": [
    "Array_2D[1, 1]"
   ]
  },
  {
   "cell_type": "code",
   "execution_count": null,
   "id": "1d0e7dc8",
   "metadata": {},
   "outputs": [],
   "source": [
    "# Transform a list into a multi-dimensional array\n",
    "a_list_of_lists_of_lists = [[[1,2],[3,4],[5,6]],[[7,8],[9,10],[11,12]]]\n",
    "Array_3D = np.array(a_list_of_lists_of_lists)\n",
    "Array_3D   "
   ]
  },
  {
   "cell_type": "code",
   "execution_count": null,
   "id": "24931218",
   "metadata": {},
   "outputs": [],
   "source": [
    "# Accessing the 5th element\n",
    "Array_3D[0,2,0]"
   ]
  },
  {
   "cell_type": "code",
   "execution_count": null,
   "id": "adf763d8",
   "metadata": {},
   "outputs": [],
   "source": [
    "#dictionaries can be turned into two-dimensional arrays using .items() method,\n",
    "#returns a copy of the dictionary's list of key-value pairs\n",
    "np.array({1:2,3:4,5:6}.items())"
   ]
  },
  {
   "cell_type": "markdown",
   "id": "37b14ceb",
   "metadata": {},
   "source": [
    "### Resizing arrays"
   ]
  },
  {
   "cell_type": "code",
   "execution_count": null,
   "id": "8520e105",
   "metadata": {},
   "outputs": [],
   "source": [
    "# .reshape accepts n-tuples\n",
    "import numpy as np\n",
    "# Restructuring a NumPy array shape\n",
    "original_array = np.array([1, 2, 3, 4, 5, 6, 7, 8])\n",
    "Array_a = original_array.reshape(4,2)\n",
    "Array_b = original_array.reshape(4,2).copy()\n",
    "Array_c = original_array.reshape(2,2,2)\n",
    "# Attention because reshape creates just views, not copies\n",
    "original_array[0] = -1"
   ]
  },
  {
   "cell_type": "code",
   "execution_count": null,
   "id": "f2f5764e",
   "metadata": {},
   "outputs": [],
   "source": [
    "Array_a"
   ]
  },
  {
   "cell_type": "code",
   "execution_count": null,
   "id": "7f4360e6",
   "metadata": {},
   "outputs": [],
   "source": [
    "Array_b #reshape creates just views not cope, use .copy()"
   ]
  },
  {
   "cell_type": "code",
   "execution_count": null,
   "id": "665a3be8",
   "metadata": {},
   "outputs": [],
   "source": [
    "#to a reshaped array in three dimensions of size 2 x 2 x 2\n",
    "Array_c "
   ]
  },
  {
   "cell_type": "code",
   "execution_count": null,
   "id": "850d6648",
   "metadata": {},
   "outputs": [],
   "source": [
    "#If it is necessary to change the shape of the original array, then the resize method is to be favored:\n",
    "original_array.resize(4,2) \n",
    "original_array"
   ]
  },
  {
   "cell_type": "code",
   "execution_count": null,
   "id": "c1173cf3",
   "metadata": {},
   "outputs": [],
   "source": [
    "original_array.shape"
   ]
  },
  {
   "cell_type": "code",
   "execution_count": null,
   "id": "3aa8174a",
   "metadata": {},
   "outputs": [],
   "source": [
    "#to exchange the rows with the columns .transpose() or .T\n",
    "original_array.T"
   ]
  },
  {
   "cell_type": "markdown",
   "id": "1522d5e9",
   "metadata": {},
   "source": [
    "### Arrays derived from NumPy functions"
   ]
  },
  {
   "cell_type": "code",
   "execution_count": null,
   "id": "3673c5ba",
   "metadata": {},
   "outputs": [],
   "source": [
    "#use the arange function, which returns integer values in a given interval (usually from zero) and reshapes its results\n",
    "ordinal_values = np.arange(9).reshape(3, 3)\n",
    "ordinal_values\n"
   ]
  },
  {
   "cell_type": "code",
   "execution_count": null,
   "id": "c404a10f",
   "metadata": {},
   "outputs": [],
   "source": [
    "#If the array has to be reversed in the order of values, use the following command\n",
    "np.arange(9)[::-1]\n",
    "\n"
   ]
  },
  {
   "cell_type": "code",
   "execution_count": null,
   "id": "7cca0bfe",
   "metadata": {},
   "outputs": [],
   "source": [
    "#If the integers are just random (with no order and possibly repeated), provide the following command:\n",
    "np.random.randint(low=1,high=10,size=(3,3)).reshape(3,3) "
   ]
  },
  {
   "cell_type": "code",
   "execution_count": null,
   "id": "d99c8f63",
   "metadata": {},
   "outputs": [],
   "source": [
    "#array of zeros\n",
    "np.zeros((3,3))\n",
    "#array of ones\n",
    "np.ones((3,3))\n",
    "#array of identity matrices\n",
    "np.eye(3)  "
   ]
  },
  {
   "cell_type": "code",
   "execution_count": null,
   "id": "6600632b",
   "metadata": {},
   "outputs": [],
   "source": [
    "#A 3 x 3 matrix of standardized normal values (mean=0, std=1) can be seen here:\n",
    "std_gaussian = np.random.normal(size=(3,3))\n",
    "std_gaussian"
   ]
  },
  {
   "cell_type": "code",
   "execution_count": null,
   "id": "2f6a0e0c",
   "metadata": {},
   "outputs": [],
   "source": [
    "#If you need to specify a different mean and standard deviation, just give the following command:\n",
    "#The loc parameter stands for the mean, and the scale is actually the standard deviation.\n",
    "gaussian = np.random.normal(loc=1.0, scale= 3.0, size=(3,3))  \n",
    "gaussian"
   ]
  },
  {
   "cell_type": "code",
   "execution_count": null,
   "id": "dd7ae7a5",
   "metadata": {},
   "outputs": [],
   "source": [
    "#Another frequent choice for a statistical distribution that is used to initialize\n",
    "#a vector is certainly the uniform distribution:\n",
    "rand = np.random.uniform(low=0.0, high=1.0, size=(3,3))  "
   ]
  },
  {
   "cell_type": "markdown",
   "id": "1cb263a6",
   "metadata": {},
   "source": [
    "### Getting an array directly from a file"
   ]
  },
  {
   "cell_type": "code",
   "execution_count": null,
   "id": "f934278e",
   "metadata": {
    "scrolled": true
   },
   "outputs": [],
   "source": [
    "housing = np.loadtxt('a_loading_example_1.csv',\n",
    "                         delimiter=',', dtype=float)"
   ]
  },
  {
   "cell_type": "code",
   "execution_count": null,
   "id": "0c75dced",
   "metadata": {},
   "outputs": [],
   "source": [
    "#converters parameter of loadtxt allows to apply specific transformation functions to specific columns of the array\n",
    "def from_txt_to_iris_class(x):\n",
    "    if x==b'Iris-setosa': return 0\n",
    "    elif x==b'Iris-versicolor': return 1\n",
    "    elif x== b'Iris-virginica': return 2\n",
    "    else: return np.nan \n",
    "np.loadtxt('irisdata.csv', delimiter=',', \n",
    "               converters= {4: from_txt_to_iris_class})"
   ]
  },
  {
   "cell_type": "markdown",
   "id": "7c5950f5",
   "metadata": {},
   "source": [
    "### NumPy fast operation and computations"
   ]
  },
  {
   "cell_type": "code",
   "execution_count": 48,
   "id": "a9543616",
   "metadata": {},
   "outputs": [
    {
     "data": {
      "text/plain": [
       "array([[ 1,  4,  9, 16, 25]])"
      ]
     },
     "execution_count": 48,
     "metadata": {},
     "output_type": "execute_result"
    }
   ],
   "source": [
    "a =  np.arange(5).reshape(1,5)\n",
    "a += 1\n",
    "a*a"
   ]
  },
  {
   "cell_type": "code",
   "execution_count": 49,
   "id": "1087fa43",
   "metadata": {},
   "outputs": [
    {
     "data": {
      "text/plain": [
       "array([[ 1,  2,  3,  4,  5],\n",
       "       [ 2,  4,  6,  8, 10],\n",
       "       [ 3,  6,  9, 12, 15],\n",
       "       [ 4,  8, 12, 16, 20],\n",
       "       [ 5, 10, 15, 20, 25]])"
      ]
     },
     "execution_count": 49,
     "metadata": {},
     "output_type": "execute_result"
    }
   ],
   "source": [
    "a = np.arange(5).reshape(1,5) + 1\n",
    "b = np.arange(5).reshape(5,1) + 1\n",
    "a * b"
   ]
  },
  {
   "cell_type": "markdown",
   "id": "cd454930",
   "metadata": {},
   "source": [
    "### Matrix operations"
   ]
  },
  {
   "cell_type": "code",
   "execution_count": 52,
   "id": "1d29ad19",
   "metadata": {},
   "outputs": [
    {
     "data": {
      "text/plain": [
       "array([[ 0.,  1.,  2.,  3.,  4.],\n",
       "       [ 5.,  6.,  7.,  8.,  9.],\n",
       "       [10., 11., 12., 13., 14.],\n",
       "       [15., 16., 17., 18., 19.],\n",
       "       [20., 21., 22., 23., 24.]])"
      ]
     },
     "execution_count": 52,
     "metadata": {},
     "output_type": "execute_result"
    }
   ],
   "source": [
    "M = np.arange(5*5, dtype=float).reshape(5,5) \n",
    "M"
   ]
  },
  {
   "cell_type": "code",
   "execution_count": 53,
   "id": "72832a27",
   "metadata": {},
   "outputs": [
    {
     "name": "stdout",
     "output_type": "stream",
     "text": [
      "[[1.  0.5]\n",
      " [0.5 0.5]\n",
      " [0.5 0.5]\n",
      " [0.5 0.5]\n",
      " [0.5 1. ]]\n"
     ]
    }
   ],
   "source": [
    "coefs = np.array([1., 0.5, 0.5, 0.5, 0.5])\n",
    "coefs_matrix = np.column_stack((coefs,coefs[::-1]))\n",
    "print (coefs_matrix)"
   ]
  },
  {
   "cell_type": "code",
   "execution_count": 54,
   "id": "a749eb43",
   "metadata": {},
   "outputs": [
    {
     "data": {
      "text/plain": [
       "array([ 5., 20., 35., 50., 65.])"
      ]
     },
     "execution_count": 54,
     "metadata": {},
     "output_type": "execute_result"
    }
   ],
   "source": [
    "np.dot(M,coefs)"
   ]
  },
  {
   "cell_type": "code",
   "execution_count": 55,
   "id": "fa7c46ca",
   "metadata": {},
   "outputs": [
    {
     "data": {
      "text/plain": [
       "array([25., 28., 31., 34., 37.])"
      ]
     },
     "execution_count": 55,
     "metadata": {},
     "output_type": "execute_result"
    }
   ],
   "source": [
    "np.dot(coefs,M)"
   ]
  },
  {
   "cell_type": "code",
   "execution_count": 56,
   "id": "d61e6330",
   "metadata": {},
   "outputs": [
    {
     "data": {
      "text/plain": [
       "array([[ 5.,  7.],\n",
       "       [20., 22.],\n",
       "       [35., 37.],\n",
       "       [50., 52.],\n",
       "       [65., 67.]])"
      ]
     },
     "execution_count": 56,
     "metadata": {},
     "output_type": "execute_result"
    }
   ],
   "source": [
    "np.dot(M,coefs_matrix)"
   ]
  },
  {
   "cell_type": "markdown",
   "id": "c1b87ee0",
   "metadata": {},
   "source": [
    "### Slicing and Indexing with NumPy arrays"
   ]
  },
  {
   "cell_type": "code",
   "execution_count": 58,
   "id": "d364fd67",
   "metadata": {},
   "outputs": [
    {
     "data": {
      "text/plain": [
       "array([[ 0,  1,  2,  3,  4,  5,  6,  7,  8,  9],\n",
       "       [10, 11, 12, 13, 14, 15, 16, 17, 18, 19],\n",
       "       [20, 21, 22, 23, 24, 25, 26, 27, 28, 29],\n",
       "       [30, 31, 32, 33, 34, 35, 36, 37, 38, 39],\n",
       "       [40, 41, 42, 43, 44, 45, 46, 47, 48, 49],\n",
       "       [50, 51, 52, 53, 54, 55, 56, 57, 58, 59],\n",
       "       [60, 61, 62, 63, 64, 65, 66, 67, 68, 69],\n",
       "       [70, 71, 72, 73, 74, 75, 76, 77, 78, 79],\n",
       "       [80, 81, 82, 83, 84, 85, 86, 87, 88, 89],\n",
       "       [90, 91, 92, 93, 94, 95, 96, 97, 98, 99]])"
      ]
     },
     "execution_count": 58,
     "metadata": {},
     "output_type": "execute_result"
    }
   ],
   "source": [
    "M = np.arange(10*10, dtype=int).reshape(10,10)\n",
    "M"
   ]
  },
  {
   "cell_type": "code",
   "execution_count": 59,
   "id": "cf69a9e2",
   "metadata": {},
   "outputs": [
    {
     "data": {
      "text/plain": [
       "array([[20, 21, 22, 23, 24, 25, 26, 27, 28, 29],\n",
       "       [40, 41, 42, 43, 44, 45, 46, 47, 48, 49],\n",
       "       [60, 61, 62, 63, 64, 65, 66, 67, 68, 69],\n",
       "       [80, 81, 82, 83, 84, 85, 86, 87, 88, 89]])"
      ]
     },
     "execution_count": 59,
     "metadata": {},
     "output_type": "execute_result"
    }
   ],
   "source": [
    "#[start_index_included:end_index_exclude:steps]\n",
    "#Extract even rows from 2 to 8:\n",
    "M[2:9:2, :]"
   ]
  },
  {
   "cell_type": "code",
   "execution_count": 60,
   "id": "33e67b02",
   "metadata": {},
   "outputs": [
    {
     "data": {
      "text/plain": [
       "array([[25, 26, 27, 28, 29],\n",
       "       [45, 46, 47, 48, 49],\n",
       "       [65, 66, 67, 68, 69],\n",
       "       [85, 86, 87, 88, 89]])"
      ]
     },
     "execution_count": 60,
     "metadata": {},
     "output_type": "execute_result"
    }
   ],
   "source": [
    "#slice the columns even further by taking only the columns from index 5\n",
    "M[2:9:2,5:]"
   ]
  },
  {
   "cell_type": "code",
   "execution_count": 61,
   "id": "14bd93b0",
   "metadata": {},
   "outputs": [
    {
     "data": {
      "text/plain": [
       "array([[25, 24, 23, 22, 21, 20],\n",
       "       [45, 44, 43, 42, 41, 40],\n",
       "       [65, 64, 63, 62, 61, 60],\n",
       "       [85, 84, 83, 82, 81, 80]])"
      ]
     },
     "execution_count": 61,
     "metadata": {},
     "output_type": "execute_result"
    }
   ],
   "source": [
    "#counting starts from column index 5 but in the reverse order and goes toward index 0\n",
    "M[2:9:2,5::-1] "
   ]
  },
  {
   "cell_type": "markdown",
   "id": "58fddfaa",
   "metadata": {},
   "source": [
    "### Working with Sparse arrays"
   ]
  },
  {
   "cell_type": "code",
   "execution_count": 65,
   "id": "201af27c",
   "metadata": {},
   "outputs": [
    {
     "data": {
      "text/plain": [
       "<5x5 sparse matrix of type '<class 'numpy.float64'>'\n",
       "\twith 5 stored elements in COOrdinate format>"
      ]
     },
     "execution_count": 65,
     "metadata": {},
     "output_type": "execute_result"
    }
   ],
   "source": [
    "from scipy.sparse import coo_matrix\n",
    "row_idx = np.array([0, 1, 3, 3, 4])\n",
    "col_idx = np.array([1, 2, 2, 4, 2])\n",
    "values  = np.array([1, 1, 2, 1, 2], dtype=float)\n",
    "sparse_coo = coo_matrix((values, (row_idx, col_idx)))\n",
    "sparse_coo"
   ]
  },
  {
   "cell_type": "code",
   "execution_count": 67,
   "id": "803b6d06",
   "metadata": {},
   "outputs": [
    {
     "name": "stdout",
     "output_type": "stream",
     "text": [
      "0.8\n"
     ]
    }
   ],
   "source": [
    "# COO matrix will tells the shape and how many non-zero elements it contains\n",
    "sparsity = 1.0 - (sparse_coo.count_nonzero() / np.prod(sparse_coo.shape))\n",
    "print(sparsity)\n",
    "#0.8 means 80% of the matrix is actually empty"
   ]
  },
  {
   "cell_type": "code",
   "execution_count": 68,
   "id": "2cd434bf",
   "metadata": {},
   "outputs": [],
   "source": [
    "from scipy import sparse"
   ]
  },
  {
   "cell_type": "code",
   "execution_count": 69,
   "id": "89df99e6",
   "metadata": {},
   "outputs": [
    {
     "data": {
      "image/png": "[encoded data removed]",
      "text/plain": [
       "<Figure size 432x288 with 1 Axes>"
      ]
     },
     "metadata": {
      "needs_background": "light"
     },
     "output_type": "display_data"
    }
   ],
   "source": [
    "import matplotlib.pyplot as plt\n",
    "\n",
    "%matplotlib inline \n",
    "large_sparse = sparse.random(10 ** 3, 10 ** 3, density=0.001, format='coo')\n",
    "plt.spy(large_sparse, marker=',')\n",
    "plt.show()"
   ]
  },
  {
   "cell_type": "code",
   "execution_count": 70,
   "id": "79dc0be8",
   "metadata": {},
   "outputs": [
    {
     "name": "stdout",
     "output_type": "stream",
     "text": [
      "  (0, 1)\t1.0\n",
      "  (1, 2)\t1.0\n",
      "  (3, 2)\t2.0\n",
      "  (4, 2)\t2.0\n",
      "  (3, 4)\t1.0\n"
     ]
    }
   ],
   "source": [
    "print(sparse_coo)"
   ]
  },
  {
   "cell_type": "code",
   "execution_count": null,
   "id": "ff477b67",
   "metadata": {},
   "outputs": [],
   "source": []
  }
 ],
 "metadata": {
  "kernelspec": {
   "display_name": "Python 3 (ipykernel)",
   "language": "python",
   "name": "python3"
  },
  "language_info": {
   "codemirror_mode": {
    "name": "ipython",
    "version": 3
   },
   "file_extension": ".py",
   "mimetype": "text/x-python",
   "name": "python",
   "nbconvert_exporter": "python",
   "pygments_lexer": "ipython3",
   "version": "3.9.5"
  }
 },
 "nbformat": 4,
 "nbformat_minor": 5
}
