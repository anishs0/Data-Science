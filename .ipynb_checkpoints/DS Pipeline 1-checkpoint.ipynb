{
 "cells": [
  {
   "cell_type": "markdown",
   "id": "00e0ee2f",
   "metadata": {},
   "source": [
    "# The Data Pipeline"
   ]
  },
  {
   "cell_type": "code",
   "execution_count": null,
   "id": "f98c23f0",
   "metadata": {},
   "outputs": [],
   "source": [
    "import pandas as pd\n",
    "iris_filename = 'irisdata.csv'\n",
    "iris = pd.read_csv(iris_filename, header=None, \n",
    "        names= ['sepal_length', 'sepal_width', \n",
    "            'petal_length', 'petal_width', 'target'])\n",
    "iris.head()"
   ]
  },
  {
   "cell_type": "code",
   "execution_count": null,
   "id": "fb96299f",
   "metadata": {},
   "outputs": [],
   "source": [
    "iris.describe()"
   ]
  },
  {
   "cell_type": "code",
   "execution_count": null,
   "id": "75068704",
   "metadata": {},
   "outputs": [],
   "source": [
    "iris.boxplot(return_type=\"axes\")\n",
    "#boxplot gives visual idea about the distribution of each feature."
   ]
  },
  {
   "cell_type": "code",
   "execution_count": null,
   "id": "5df2d1f0",
   "metadata": {},
   "outputs": [],
   "source": [
    "iris.quantile([0.1, 0.9])"
   ]
  },
  {
   "cell_type": "code",
   "execution_count": null,
   "id": "77119d74",
   "metadata": {},
   "outputs": [],
   "source": [
    "iris.target.unique()"
   ]
  },
  {
   "cell_type": "code",
   "execution_count": null,
   "id": "c8583f2b",
   "metadata": {},
   "outputs": [],
   "source": [
    "#count the number of times the petal_length feature appears more\n",
    "#than the average against the same count for the petal_width feature(Similarity matrix)\n",
    "pd.crosstab(iris['petal_length'] > 3.758667, \n",
    "            iris['petal_width'] > 1.198667)"
   ]
  },
  {
   "cell_type": "code",
   "execution_count": null,
   "id": "0ac55a4d",
   "metadata": {},
   "outputs": [],
   "source": [
    "scatterplot = iris.plot(kind='scatter', \n",
    "                            x='petal_width', y='petal_length', \n",
    "                            s=64, c='blue', edgecolors='white') #s = point size"
   ]
  },
  {
   "cell_type": "code",
   "execution_count": null,
   "id": "4438447b",
   "metadata": {},
   "outputs": [],
   "source": [
    "#distribution of feature using histogram\n",
    "distr = iris.petal_width.plot(kind='hist', bins=20)"
   ]
  },
  {
   "cell_type": "markdown",
   "id": "37e93df8",
   "metadata": {},
   "source": [
    "## Building new features"
   ]
  },
  {
   "cell_type": "code",
   "execution_count": null,
   "id": "08172113",
   "metadata": {},
   "outputs": [],
   "source": [
    "import numpy as np\n",
    "from sklearn import datasets\n",
    "from sklearn.model_selection import train_test_split\n",
    "from sklearn.metrics import mean_squared_error\n",
    "cali = datasets.fetch_california_housing()\n",
    "X = cali['data']\n",
    "Y = cali['target']\n",
    "X_train, X_test, Y_train, Y_test = train_test_split(X, Y, \n",
    "                                                    test_size=0.2)"
   ]
  },
  {
   "cell_type": "code",
   "execution_count": null,
   "id": "8c17c60f",
   "metadata": {},
   "outputs": [],
   "source": [
    "from sklearn.neighbors import KNeighborsRegressor\n",
    "regressor = KNeighborsRegressor()\n",
    "regressor.fit(X_train, Y_train)\n",
    "Y_est = regressor.predict(X_test)\n",
    "print (\"MAE =\", mean_squared_error(Y_test, Y_est))"
   ]
  },
  {
   "cell_type": "markdown",
   "id": "07ac56d7",
   "metadata": {},
   "source": [
    "Here the mean normalization is 1.08, we will use Z-scores to normalize input features and compare the regression \n",
    "tasks on this new feature set. Z-normalization is simply the mapping of each feature to a new one with a null mean and unitary variance.\n"
   ]
  },
  {
   "cell_type": "code",
   "execution_count": null,
   "id": "07267061",
   "metadata": {},
   "outputs": [],
   "source": [
    "from sklearn.preprocessing import StandardScaler\n",
    "scalar = StandardScaler()\n",
    "X_train_scaled = scalar.fit_transform(X_train)\n",
    "X_test_scaled = scalar.transform(X_test)\n",
    "regressor = KNeighborsRegressor()\n",
    "regressor.fit(X_train_scaled, Y_train)\n",
    "Y_estimate = regressor.predict(X_test_scaled)\n",
    "print (\"MAE =\", mean_squared_error(Y_test, Y_estimate))\n",
    "#Note that we didn't use the original features; \n",
    "#we used their linear modification, which is more suitable for learning with a KNN regressor."
   ]
  },
  {
   "cell_type": "markdown",
   "id": "b82dd43f",
   "metadata": {},
   "source": [
    "RobustScaler is more robust to outliers. It uses median and interquartile range (IQR) \n",
    "instead of mean and standard deviation."
   ]
  },
  {
   "cell_type": "code",
   "execution_count": null,
   "id": "59616035",
   "metadata": {},
   "outputs": [],
   "source": [
    "from sklearn.preprocessing import RobustScaler\n",
    "scaler2 = RobustScaler()\n",
    "X_train_scaled = scaler2.fit_transform(X_train)\n",
    "X_test_scaled = scaler2.transform(X_test)\n",
    "regressor = KNeighborsRegressor()\n",
    "regressor.fit(X_train_scaled, Y_train)\n",
    "Y_est = regressor.predict(X_test_scaled)\n",
    "print (\"MAE=\", mean_squared_error(Y_test, Y_est))"
   ]
  },
  {
   "cell_type": "markdown",
   "id": "0e8f62ff",
   "metadata": {},
   "source": [
    "Nonlinear Transformation using AveOccup Feature"
   ]
  },
  {
   "cell_type": "code",
   "execution_count": null,
   "id": "793ad3de",
   "metadata": {},
   "outputs": [],
   "source": [
    "non_linear_feat = 5 # AveOccup \n",
    "X_train_new_feat = np.sqrt(X_train[:,non_linear_feat])\n",
    "X_train_new_feat.shape = (X_train_new_feat.shape[0], 1)\n",
    "X_train_extended = np.hstack([X_train, X_train_new_feat])\n",
    "X_test_new_feat = np.sqrt(X_test[:,non_linear_feat])\n",
    "X_test_new_feat.shape = (X_test_new_feat.shape[0], 1)\n",
    "X_test_extended = np.hstack([X_test, X_test_new_feat])\n",
    "scaler = StandardScaler()\n",
    "X_train_extended_scaled = scaler.fit_transform(X_train_extended)\n",
    "X_test_extended_scaled = scaler.transform(X_test_extended)\n",
    "regressor = KNeighborsRegressor()\n",
    "regressor.fit(X_train_extended_scaled, Y_train)\n",
    "Y_est = regressor.predict(X_test_extended_scaled)\n",
    "print (\"MAE=\", mean_squared_error(Y_test, Y_est)) "
   ]
  },
  {
   "cell_type": "code",
   "execution_count": null,
   "id": "9be45cb2",
   "metadata": {},
   "outputs": [],
   "source": []
  }
 ],
 "metadata": {
  "kernelspec": {
   "display_name": "Python 3 (ipykernel)",
   "language": "python",
   "name": "python3"
  },
  "language_info": {
   "codemirror_mode": {
    "name": "ipython",
    "version": 3
   },
   "file_extension": ".py",
   "mimetype": "text/x-python",
   "name": "python",
   "nbconvert_exporter": "python",
   "pygments_lexer": "ipython3",
   "version": "3.9.5"
  }
 },
 "nbformat": 4,
 "nbformat_minor": 5
}
