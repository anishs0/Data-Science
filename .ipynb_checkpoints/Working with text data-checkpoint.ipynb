{
 "cells": [
  {
   "cell_type": "markdown",
   "id": "8df30482",
   "metadata": {},
   "source": [
    "# A Special Type of Data - TEXT DATA"
   ]
  },
  {
   "cell_type": "markdown",
   "id": "a245a29b",
   "metadata": {},
   "source": [
    "Most common approach dealing with the text is to use bag-of-words approach. According to this approach,\n",
    "every word becomes a feature and the text becomes a vector that contains non-zero elements of all the\n",
    "features in its body."
   ]
  },
  {
   "cell_type": "code",
   "execution_count": 2,
   "id": "27b9c0de",
   "metadata": {},
   "outputs": [],
   "source": [
    "from sklearn.datasets import fetch_20newsgroups\n",
    "categories = [\"sci.med\", \"sci.space\"]\n",
    "twenty_sci_news = fetch_20newsgroups(categories=categories)"
   ]
  },
  {
   "cell_type": "code",
   "execution_count": 20,
   "id": "1cd7c698",
   "metadata": {},
   "outputs": [
    {
     "name": "stdout",
     "output_type": "stream",
     "text": [
      "From: flb@flb.optiplan.fi (\"F.Baube[tm]\")\n",
      "Subject: Vandalizing the sky\n",
      "X-Added: Forwarded by Space Digest\n",
      "Organization: [via International Space University]\n",
      "Original-Sender: isu@VACATION.VENARI.CS.CMU.EDU\n",
      "Distribution: sci\n",
      "Lines: 12\n",
      "\n",
      "From: \"Phil G. Fraering\" <pgf@srl03.cacs.usl.edu>\n",
      "> \n",
      "> Finally: this isn't the Bronze Age, [..]\n",
      "> please try to remember that there are more human activities than\n",
      "> those practiced by the Warrior Caste, the Farming Caste, and the\n",
      "> Priesthood.\n",
      "\n",
      "Right, the Profiting Caste is blessed by God, and may \n",
      " freely blare its presence in the evening twilight ..\n",
      "\n",
      "-- \n",
      "* Fred Baube (tm)\n",
      "\n"
     ]
    }
   ],
   "source": [
    "#contents of the dataset .data\n",
    "print(twenty_sci_news.data[0])"
   ]
  },
  {
   "cell_type": "code",
   "execution_count": null,
   "id": "1a4968b3",
   "metadata": {},
   "outputs": [],
   "source": [
    "#locations of the files .filenames\n",
    "twenty_sci_news.filenames "
   ]
  },
  {
   "cell_type": "code",
   "execution_count": 11,
   "id": "4f796515",
   "metadata": {},
   "outputs": [
    {
     "name": "stdout",
     "output_type": "stream",
     "text": [
      "0\n",
      "sci.med\n"
     ]
    }
   ],
   "source": [
    "#label info .taget, .target_names\n",
    "print(twenty_sci_news.target[2])\n",
    "print (twenty_sci_news.target_names[twenty_sci_news.target[2]])"
   ]
  },
  {
   "cell_type": "code",
   "execution_count": 12,
   "id": "9d23a360",
   "metadata": {},
   "outputs": [
    {
     "data": {
      "text/plain": [
       "' doc1 = we love data science\\ndoc2 = data science is hard\\nThere are 6 different words (we, love, data, science, is, and hard). We can associate each document with a \\nfeature vector.\\nfeature_doc1 = [1 1 1 1 0 0]\\nfeacture_doc2 =[0 0 1 1 1 1] '"
      ]
     },
     "execution_count": 12,
     "metadata": {},
     "output_type": "execute_result"
    }
   ],
   "source": [
    "\"\"\" doc1 = we love data science\n",
    "doc2 = data science is hard\n",
    "There are 6 different words (we, love, data, science, is, and hard). We can associate each document with a \n",
    "feature vector.\n",
    "feature_doc1 = [1 1 1 1 0 0]\n",
    "feacture_doc2 =[0 0 1 1 1 1] \"\"\""
   ]
  },
  {
   "cell_type": "code",
   "execution_count": 14,
   "id": "0928ebfc",
   "metadata": {},
   "outputs": [
    {
     "data": {
      "text/plain": [
       "(1187, 25638)"
      ]
     },
     "execution_count": 14,
     "metadata": {},
     "output_type": "execute_result"
    }
   ],
   "source": [
    "from sklearn.feature_extraction.text import CountVectorizer\n",
    "count_vect = CountVectorizer()\n",
    "word_count = count_vect.fit_transform(twenty_sci_news.data)\n",
    "word_count.shape\n",
    "#1187 the number of observations in the dataset\n",
    "#25638 the number of unique words in the dataset"
   ]
  },
  {
   "cell_type": "code",
   "execution_count": 21,
   "id": "99485902",
   "metadata": {},
   "outputs": [
    {
     "name": "stdout",
     "output_type": "stream",
     "text": [
      "  (0, 10827)\t2\n",
      "  (0, 10501)\t2\n",
      "  (0, 17170)\t1\n",
      "  (0, 10341)\t1\n",
      "  (0, 4762)\t2\n",
      "  (0, 23381)\t2\n",
      "  (0, 22345)\t1\n",
      "  (0, 24461)\t1\n",
      "  (0, 23137)\t7\n",
      "  (0, 21382)\t1\n",
      "  (0, 3233)\t1\n",
      "  (0, 10713)\t1\n",
      "  (0, 5650)\t3\n",
      "  (0, 21686)\t2\n",
      "  (0, 8438)\t1\n",
      "  (0, 17217)\t1\n",
      "  (0, 24626)\t1\n",
      "  (0, 13158)\t1\n",
      "  (0, 24151)\t1\n",
      "  (0, 17235)\t1\n",
      "  (0, 20909)\t1\n",
      "  (0, 13359)\t1\n",
      "  (0, 24415)\t1\n",
      "  (0, 24547)\t1\n",
      "  (0, 7646)\t1\n",
      "  :\t:\n",
      "  (0, 15968)\t1\n",
      "  (0, 12362)\t1\n",
      "  (0, 3191)\t1\n",
      "  (0, 23129)\t1\n",
      "  (0, 23241)\t1\n",
      "  (0, 18474)\t1\n",
      "  (0, 24930)\t1\n",
      "  (0, 6017)\t3\n",
      "  (0, 10188)\t1\n",
      "  (0, 3808)\t2\n",
      "  (0, 18642)\t1\n",
      "  (0, 20110)\t1\n",
      "  (0, 18744)\t1\n",
      "  (0, 13318)\t1\n",
      "  (0, 5148)\t1\n",
      "  (0, 11330)\t1\n",
      "  (0, 15246)\t1\n",
      "  (0, 10785)\t1\n",
      "  (0, 5134)\t1\n",
      "  (0, 13384)\t1\n",
      "  (0, 18586)\t1\n",
      "  (0, 12716)\t1\n",
      "  (0, 9796)\t1\n",
      "  (0, 23849)\t1\n",
      "  (0, 10778)\t1\n"
     ]
    }
   ],
   "source": [
    "#After the CountVectorizer transforms, each documnet is associated with its feature vector.\n",
    "print (word_count[0])"
   ]
  },
  {
   "cell_type": "code",
   "execution_count": 24,
   "id": "2a9112b5",
   "metadata": {},
   "outputs": [
    {
     "name": "stdout",
     "output_type": "stream",
     "text": [
      "Word from appears 2 times\n",
      "Word flb appears 2 times\n",
      "Word optiplan appears 1 times\n",
      "Word fi appears 1 times\n",
      "Word baube appears 2 times\n",
      "Word tm appears 2 times\n",
      "Word subject appears 1 times\n",
      "Word vandalizing appears 1 times\n",
      "Word the appears 7 times\n",
      "Word sky appears 1 times\n",
      "Word added appears 1 times\n",
      "Word forwarded appears 1 times\n",
      "Word by appears 3 times\n",
      "Word space appears 2 times\n",
      "Word digest appears 1 times\n",
      "Word organization appears 1 times\n",
      "Word via appears 1 times\n",
      "Word international appears 1 times\n",
      "Word university appears 1 times\n",
      "Word original appears 1 times\n",
      "Word sender appears 1 times\n",
      "Word isu appears 1 times\n",
      "Word vacation appears 1 times\n",
      "Word venari appears 1 times\n",
      "Word cs appears 1 times\n",
      "Word cmu appears 1 times\n",
      "Word edu appears 2 times\n",
      "Word distribution appears 1 times\n",
      "Word sci appears 1 times\n",
      "Word lines appears 1 times\n",
      "Word 12 appears 1 times\n",
      "Word phil appears 1 times\n",
      "Word fraering appears 1 times\n",
      "Word pgf appears 1 times\n",
      "Word srl03 appears 1 times\n",
      "Word cacs appears 1 times\n",
      "Word usl appears 1 times\n",
      "Word finally appears 1 times\n",
      "Word this appears 1 times\n",
      "Word isn appears 1 times\n",
      "Word bronze appears 1 times\n",
      "Word age appears 1 times\n",
      "Word please appears 1 times\n",
      "Word try appears 1 times\n",
      "Word to appears 1 times\n",
      "Word remember appears 1 times\n",
      "Word that appears 1 times\n",
      "Word there appears 1 times\n",
      "Word are appears 1 times\n",
      "Word more appears 1 times\n",
      "Word human appears 1 times\n",
      "Word activities appears 1 times\n",
      "Word than appears 1 times\n",
      "Word those appears 1 times\n",
      "Word practiced appears 1 times\n",
      "Word warrior appears 1 times\n",
      "Word caste appears 3 times\n",
      "Word farming appears 1 times\n",
      "Word and appears 2 times\n",
      "Word priesthood appears 1 times\n",
      "Word right appears 1 times\n",
      "Word profiting appears 1 times\n",
      "Word is appears 1 times\n",
      "Word blessed appears 1 times\n",
      "Word god appears 1 times\n",
      "Word may appears 1 times\n",
      "Word freely appears 1 times\n",
      "Word blare appears 1 times\n",
      "Word its appears 1 times\n",
      "Word presence appears 1 times\n",
      "Word in appears 1 times\n",
      "Word evening appears 1 times\n",
      "Word twilight appears 1 times\n",
      "Word fred appears 1 times\n"
     ]
    },
    {
     "name": "stderr",
     "output_type": "stream",
     "text": [
      "C:\\Users\\Anish\\miniconda3\\lib\\site-packages\\sklearn\\utils\\deprecation.py:87: FutureWarning: Function get_feature_names is deprecated; get_feature_names is deprecated in 1.0 and will be removed in 1.2. Please use get_feature_names_out instead.\n",
      "  warnings.warn(msg, category=FutureWarning)\n"
     ]
    }
   ],
   "source": [
    "word_list = count_vect.get_feature_names()\n",
    "for n in word_count[0].indices:\n",
    "     print(\"Word %s appears %i times\" % (word_list[n], word_count[0, n]))\n"
   ]
  },
  {
   "cell_type": "code",
   "execution_count": 28,
   "id": "cbab1e7d",
   "metadata": {},
   "outputs": [
    {
     "name": "stdout",
     "output_type": "stream",
     "text": [
      "Word \"from\" has frequency 0.022\n",
      "Word \"flb\" has frequency 0.022\n",
      "Word \"optiplan\" has frequency 0.011\n",
      "Word \"fi\" has frequency 0.011\n",
      "Word \"baube\" has frequency 0.022\n",
      "Word \"tm\" has frequency 0.022\n",
      "Word \"subject\" has frequency 0.011\n",
      "Word \"vandalizing\" has frequency 0.011\n",
      "Word \"the\" has frequency 0.077\n",
      "Word \"sky\" has frequency 0.011\n",
      "Word \"added\" has frequency 0.011\n",
      "Word \"forwarded\" has frequency 0.011\n",
      "Word \"by\" has frequency 0.033\n",
      "Word \"space\" has frequency 0.022\n",
      "Word \"digest\" has frequency 0.011\n",
      "Word \"organization\" has frequency 0.011\n",
      "Word \"via\" has frequency 0.011\n",
      "Word \"international\" has frequency 0.011\n",
      "Word \"university\" has frequency 0.011\n",
      "Word \"original\" has frequency 0.011\n",
      "Word \"sender\" has frequency 0.011\n",
      "Word \"isu\" has frequency 0.011\n",
      "Word \"vacation\" has frequency 0.011\n",
      "Word \"venari\" has frequency 0.011\n",
      "Word \"cs\" has frequency 0.011\n",
      "Word \"cmu\" has frequency 0.011\n",
      "Word \"edu\" has frequency 0.022\n",
      "Word \"distribution\" has frequency 0.011\n",
      "Word \"sci\" has frequency 0.011\n",
      "Word \"lines\" has frequency 0.011\n",
      "Word \"12\" has frequency 0.011\n",
      "Word \"phil\" has frequency 0.011\n",
      "Word \"fraering\" has frequency 0.011\n",
      "Word \"pgf\" has frequency 0.011\n",
      "Word \"srl03\" has frequency 0.011\n",
      "Word \"cacs\" has frequency 0.011\n",
      "Word \"usl\" has frequency 0.011\n",
      "Word \"finally\" has frequency 0.011\n",
      "Word \"this\" has frequency 0.011\n",
      "Word \"isn\" has frequency 0.011\n",
      "Word \"bronze\" has frequency 0.011\n",
      "Word \"age\" has frequency 0.011\n",
      "Word \"please\" has frequency 0.011\n",
      "Word \"try\" has frequency 0.011\n",
      "Word \"to\" has frequency 0.011\n",
      "Word \"remember\" has frequency 0.011\n",
      "Word \"that\" has frequency 0.011\n",
      "Word \"there\" has frequency 0.011\n",
      "Word \"are\" has frequency 0.011\n",
      "Word \"more\" has frequency 0.011\n",
      "Word \"human\" has frequency 0.011\n",
      "Word \"activities\" has frequency 0.011\n",
      "Word \"than\" has frequency 0.011\n",
      "Word \"those\" has frequency 0.011\n",
      "Word \"practiced\" has frequency 0.011\n",
      "Word \"warrior\" has frequency 0.011\n",
      "Word \"caste\" has frequency 0.033\n",
      "Word \"farming\" has frequency 0.011\n",
      "Word \"and\" has frequency 0.022\n",
      "Word \"priesthood\" has frequency 0.011\n",
      "Word \"right\" has frequency 0.011\n",
      "Word \"profiting\" has frequency 0.011\n",
      "Word \"is\" has frequency 0.011\n",
      "Word \"blessed\" has frequency 0.011\n",
      "Word \"god\" has frequency 0.011\n",
      "Word \"may\" has frequency 0.011\n",
      "Word \"freely\" has frequency 0.011\n",
      "Word \"blare\" has frequency 0.011\n",
      "Word \"its\" has frequency 0.011\n",
      "Word \"presence\" has frequency 0.011\n",
      "Word \"in\" has frequency 0.011\n",
      "Word \"evening\" has frequency 0.011\n",
      "Word \"twilight\" has frequency 0.011\n",
      "Word \"fred\" has frequency 0.011\n"
     ]
    }
   ],
   "source": [
    "from sklearn.feature_extraction.text import TfidfVectorizer\n",
    "tf_vect = TfidfVectorizer(use_idf=False, norm = \"l1\")\n",
    "word_freq = tf_vect.fit_transform(twenty_sci_news.data)\n",
    "word_list = tf_vect.get_feature_names()\n",
    "for n in word_freq[0].indices:\n",
    "    print('Word \"%s\" has frequency %0.3f' % (word_list[n],  \n",
    "                                                   word_freq[0, n]))"
   ]
  },
  {
   "cell_type": "code",
   "execution_count": 29,
   "id": "1bf6238a",
   "metadata": {},
   "outputs": [
    {
     "name": "stdout",
     "output_type": "stream",
     "text": [
      "Word \"fred\" has tf-idf 0.089\n",
      "Word \"twilight\" has tf-idf 0.139\n",
      "Word \"evening\" has tf-idf 0.113\n",
      "Word \"in\" has tf-idf 0.024\n",
      "Word \"presence\" has tf-idf 0.119\n",
      "Word \"its\" has tf-idf 0.061\n",
      "Word \"blare\" has tf-idf 0.150\n",
      "Word \"freely\" has tf-idf 0.119\n",
      "Word \"may\" has tf-idf 0.054\n",
      "Word \"god\" has tf-idf 0.119\n",
      "Word \"blessed\" has tf-idf 0.150\n",
      "Word \"is\" has tf-idf 0.026\n",
      "Word \"profiting\" has tf-idf 0.150\n",
      "Word \"right\" has tf-idf 0.068\n",
      "Word \"priesthood\" has tf-idf 0.144\n",
      "Word \"and\" has tf-idf 0.049\n",
      "Word \"farming\" has tf-idf 0.144\n",
      "Word \"caste\" has tf-idf 0.433\n",
      "Word \"warrior\" has tf-idf 0.144\n",
      "Word \"practiced\" has tf-idf 0.132\n",
      "Word \"those\" has tf-idf 0.060\n",
      "Word \"than\" has tf-idf 0.052\n",
      "Word \"activities\" has tf-idf 0.091\n",
      "Word \"human\" has tf-idf 0.084\n",
      "Word \"more\" has tf-idf 0.046\n",
      "Word \"are\" has tf-idf 0.035\n",
      "Word \"there\" has tf-idf 0.039\n",
      "Word \"that\" has tf-idf 0.027\n",
      "Word \"remember\" has tf-idf 0.077\n",
      "Word \"to\" has tf-idf 0.023\n",
      "Word \"try\" has tf-idf 0.073\n",
      "Word \"please\" has tf-idf 0.071\n",
      "Word \"age\" has tf-idf 0.092\n",
      "Word \"bronze\" has tf-idf 0.144\n",
      "Word \"isn\" has tf-idf 0.073\n",
      "Word \"this\" has tf-idf 0.031\n",
      "Word \"finally\" has tf-idf 0.097\n",
      "Word \"usl\" has tf-idf 0.112\n",
      "Word \"cacs\" has tf-idf 0.114\n",
      "Word \"srl03\" has tf-idf 0.121\n",
      "Word \"pgf\" has tf-idf 0.114\n",
      "Word \"fraering\" has tf-idf 0.113\n",
      "Word \"phil\" has tf-idf 0.102\n",
      "Word \"12\" has tf-idf 0.076\n",
      "Word \"lines\" has tf-idf 0.022\n",
      "Word \"sci\" has tf-idf 0.067\n",
      "Word \"distribution\" has tf-idf 0.053\n",
      "Word \"edu\" has tf-idf 0.059\n",
      "Word \"cmu\" has tf-idf 0.081\n",
      "Word \"cs\" has tf-idf 0.055\n",
      "Word \"venari\" has tf-idf 0.103\n",
      "Word \"vacation\" has tf-idf 0.099\n",
      "Word \"isu\" has tf-idf 0.099\n",
      "Word \"sender\" has tf-idf 0.093\n",
      "Word \"original\" has tf-idf 0.085\n",
      "Word \"university\" has tf-idf 0.045\n",
      "Word \"international\" has tf-idf 0.081\n",
      "Word \"via\" has tf-idf 0.083\n",
      "Word \"organization\" has tf-idf 0.022\n",
      "Word \"digest\" has tf-idf 0.095\n",
      "Word \"space\" has tf-idf 0.098\n",
      "Word \"by\" has tf-idf 0.120\n",
      "Word \"forwarded\" has tf-idf 0.096\n",
      "Word \"added\" has tf-idf 0.088\n",
      "Word \"sky\" has tf-idf 0.091\n",
      "Word \"the\" has tf-idf 0.158\n",
      "Word \"vandalizing\" has tf-idf 0.103\n",
      "Word \"subject\" has tf-idf 0.022\n",
      "Word \"tm\" has tf-idf 0.219\n",
      "Word \"baube\" has tf-idf 0.264\n",
      "Word \"fi\" has tf-idf 0.110\n",
      "Word \"optiplan\" has tf-idf 0.132\n",
      "Word \"flb\" has tf-idf 0.264\n",
      "Word \"from\" has tf-idf 0.043\n"
     ]
    }
   ],
   "source": [
    "from sklearn.feature_extraction.text import TfidfVectorizer\n",
    "tfidf_vect = TfidfVectorizer() # Default: use_idf=True\n",
    "word_tfidf = tfidf_vect.fit_transform(twenty_sci_news.data)\n",
    "word_list = tfidf_vect.get_feature_names()\n",
    "for n in word_tfidf[0].indices:\n",
    "    print ('Word \"%s\" has tf-idf %0.3f' % (word_list[n], \n",
    "                                               word_tfidf[0, n]))\n",
    "\"\"\"In this example, the four most characterizing words of the first documents are caste, baube, flb, and tm\n",
    "(they have the highest tf-idf score). This means that their term frequency within the document is high, \n",
    "whereas they're pretty rare in the remaining documents. \"\"\""
   ]
  },
  {
   "cell_type": "code",
   "execution_count": 30,
   "id": "9fe45b06",
   "metadata": {},
   "outputs": [
    {
     "data": {
      "text/plain": [
       "(1187, 1000)"
      ]
     },
     "execution_count": 30,
     "metadata": {},
     "output_type": "execute_result"
    }
   ],
   "source": [
    "#deal with too many features, decides the number of buckets of words wanted.\n",
    "from sklearn.feature_extraction.text import HashingVectorizer\n",
    "hash_vect = HashingVectorizer(n_features=1000)\n",
    "word_hashed = hash_vect.fit_transform(twenty_sci_news.data)\n",
    "word_hashed.shape"
   ]
  },
  {
   "cell_type": "markdown",
   "id": "51266799",
   "metadata": {},
   "source": [
    "## Scrapping the web using Beautiful Soup"
   ]
  },
  {
   "cell_type": "code",
   "execution_count": 5,
   "id": "a2393760",
   "metadata": {},
   "outputs": [
    {
     "data": {
      "text/plain": [
       "<title>William Shakespeare - Wikipedia</title>"
      ]
     },
     "execution_count": 5,
     "metadata": {},
     "output_type": "execute_result"
    }
   ],
   "source": [
    "#Let's download the code behind the William Shakespeare page on Wikipedia\n",
    "import urllib.request\n",
    "url = \"https://en.wikipedia.org/wiki/William_Shakespeare\"\n",
    "request = urllib.request.Request(url)\n",
    "response= urllib.request.urlopen(request)\n",
    "#Beautiful Soup to read the resource and parse it using the HTML parse\n",
    "from bs4 import BeautifulSoup\n",
    "soup = BeautifulSoup(response, \"html.parser\")\n",
    "soup.title\n",
    "\n"
   ]
  },
  {
   "cell_type": "code",
   "execution_count": 6,
   "id": "c5a7be5f",
   "metadata": {},
   "outputs": [
    {
     "name": "stdout",
     "output_type": "stream",
     "text": [
      "Category:William Shakespeare -> /wiki/Category:William_Shakespeare\n",
      "Category:1564 births -> /wiki/Category:1564_births\n",
      "Category:1616 deaths -> /wiki/Category:1616_deaths\n",
      "Category:16th-century English male actors -> /wiki/Category:16th-century_English_male_actors\n",
      "Category:English male stage actors -> /wiki/Category:English_male_stage_actors\n",
      "Category:16th-century English dramatists and playwrights -> /wiki/Category:16th-century_English_dramatists_and_playwrights\n",
      "Category:17th-century English dramatists and playwrights -> /wiki/Category:17th-century_English_dramatists_and_playwrights\n",
      "Category:16th-century English poets -> /wiki/Category:16th-century_English_poets\n",
      "Category:Burials in Warwickshire -> /wiki/Category:Burials_in_Warwickshire\n",
      "Category:17th-century English poets -> /wiki/Category:17th-century_English_poets\n",
      "Category:17th-century English male writers -> /wiki/Category:17th-century_English_male_writers\n",
      "Category:English Renaissance dramatists -> /wiki/Category:English_Renaissance_dramatists\n",
      "Category:People educated at King Edward VI School, Stratford-upon-Avon -> /wiki/Category:People_educated_at_King_Edward_VI_School,_Stratford-upon-Avon\n",
      "Category:People from Stratford-upon-Avon -> /wiki/Category:People_from_Stratford-upon-Avon\n",
      "Category:People of the Elizabethan era -> /wiki/Category:People_of_the_Elizabethan_era\n",
      "Category:Shakespeare family -> /wiki/Category:Shakespeare_family\n",
      "Category:Sonneteers -> /wiki/Category:Sonneteers\n",
      "Category:King's Men (playing company) -> /wiki/Category:King%27s_Men_(playing_company)\n",
      "Category:17th-century English male actors -> /wiki/Category:17th-century_English_male_actors\n",
      "Category:English male dramatists and playwrights -> /wiki/Category:English_male_dramatists_and_playwrights\n",
      "Category:English male poets -> /wiki/Category:English_male_poets\n"
     ]
    }
   ],
   "source": [
    "#knowing about the categories associated with the Wikipedia page of William Shakespeare\n",
    "section = soup.find_all(id='mw-normal-catlinks')[0] \n",
    "for catlink in section.find_all(\"a\")[1:]: \n",
    "    print(catlink.get(\"title\"), \"->\", catlink.get(\"href\")) "
   ]
  },
  {
   "cell_type": "code",
   "execution_count": null,
   "id": "6a3c189c",
   "metadata": {},
   "outputs": [],
   "source": []
  }
 ],
 "metadata": {
  "kernelspec": {
   "display_name": "Python 3 (ipykernel)",
   "language": "python",
   "name": "python3"
  },
  "language_info": {
   "codemirror_mode": {
    "name": "ipython",
    "version": 3
   },
   "file_extension": ".py",
   "mimetype": "text/x-python",
   "name": "python",
   "nbconvert_exporter": "python",
   "pygments_lexer": "ipython3",
   "version": "3.9.5"
  }
 },
 "nbformat": 4,
 "nbformat_minor": 5
}
